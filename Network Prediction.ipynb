{
 "cells": [
  {
   "cell_type": "code",
   "execution_count": 22,
   "id": "af7ba4c0",
   "metadata": {},
   "outputs": [
    {
     "name": "stdout",
     "output_type": "stream",
     "text": [
      "('SOURCE_SUBREDDIT', 'TARGET_SUBREDDIT', {'POST_ID': 'POST_ID', 'TIMESTAMP': 'TIMESTAMP', 'LINK_SENTIMENT': 'LINK_SENTIMENT', 'PROPERTIES': 'PROPERTIES'})\n"
     ]
    }
   ],
   "source": [
    "import networkx as nx\n",
    "import random\n",
    "\n",
    "# Load the dataset into a NetworkX graph object\n",
    "G = nx.read_edgelist('soc-redditHyperlinks-body.tsv', delimiter='\\t', create_using=nx.DiGraph(), nodetype=str, data=[('POST_ID', str), ('TIMESTAMP', str), ('LINK_SENTIMENT', str), ('PROPERTIES', str)])\n",
    "\n",
    "# Print the first edge and its attributes\n",
    "print(list(G.edges(data=True))[0])\n",
    "\n",
    "# Split the graph into training and test sets\n",
    "nodes = list(G.nodes())\n",
    "num_train = int(0.8 * len(nodes))\n",
    "train_nodes = random.sample(nodes, num_train)\n",
    "test_nodes = list(set(nodes) - set(train_nodes))\n",
    "train_graph = G.subgraph(train_nodes)\n",
    "test_graph = G.subgraph(test_nodes)\n",
    "\n",
    "# Create a new undirected graph and copy the nodes and edges from the subgraph of the original graph\n",
    "undirected_train_graph = nx.Graph()\n",
    "for node in train_graph.nodes():\n",
    "    undirected_train_graph.add_node(node)\n",
    "for edge in train_graph.edges():\n",
    "    undirected_train_graph.add_edge(edge[0], edge[1])\n",
    "\n",
    "# Add nodes 'node1' and 'node2' to the undirected graph\n",
    "undirected_train_graph.add_node('node1', attribute='attr_value_1')\n"
   ]
  },
  {
   "cell_type": "code",
   "execution_count": 49,
   "id": "69edef3f",
   "metadata": {},
   "outputs": [
    {
     "name": "stdout",
     "output_type": "stream",
     "text": [
      "Number of nodes: 28622\n",
      "Number of edges: 85820\n",
      "Density: 0.0001047619875149346\n"
     ]
    }
   ],
   "source": [
    "import networkx as nx\n",
    "import matplotlib.pyplot as plt\n",
    "\n",
    "# Calculate some basic network statistics\n",
    "num_nodes = len(train_graph.nodes())\n",
    "num_edges = len(train_graph.edges())\n",
    "density = nx.density(train_graph)\n",
    "degree_centrality = nx.degree_centrality(train_graph)\n",
    "\n",
    "# Print the results\n",
    "print(f\"Number of nodes: {num_nodes}\")\n",
    "print(f\"Number of edges: {num_edges}\")\n",
    "print(f\"Density: {density}\")\n"
   ]
  },
  {
   "cell_type": "code",
   "execution_count": 23,
   "id": "f32f36b8",
   "metadata": {},
   "outputs": [
    {
     "data": {
      "text/plain": [
       "<networkx.classes.graph.Graph at 0x21c7d6be280>"
      ]
     },
     "execution_count": 23,
     "metadata": {},
     "output_type": "execute_result"
    }
   ],
   "source": [
    "undirected_train_graph"
   ]
  },
  {
   "cell_type": "code",
   "execution_count": 25,
   "id": "92c12ad2",
   "metadata": {},
   "outputs": [],
   "source": [
    "\n",
    "for u, v in train_graph.edges():\n",
    "    common_successors = set(train_graph.successors(u)) & set(train_graph.successors(v))\n",
    "    train_graph[u][v]['common_successors'] = len(common_successors)\n"
   ]
  },
  {
   "cell_type": "code",
   "execution_count": 27,
   "id": "f4856dc2",
   "metadata": {},
   "outputs": [
    {
     "data": {
      "text/html": [
       "<style>#sk-container-id-1 {color: black;background-color: white;}#sk-container-id-1 pre{padding: 0;}#sk-container-id-1 div.sk-toggleable {background-color: white;}#sk-container-id-1 label.sk-toggleable__label {cursor: pointer;display: block;width: 100%;margin-bottom: 0;padding: 0.3em;box-sizing: border-box;text-align: center;}#sk-container-id-1 label.sk-toggleable__label-arrow:before {content: \"▸\";float: left;margin-right: 0.25em;color: #696969;}#sk-container-id-1 label.sk-toggleable__label-arrow:hover:before {color: black;}#sk-container-id-1 div.sk-estimator:hover label.sk-toggleable__label-arrow:before {color: black;}#sk-container-id-1 div.sk-toggleable__content {max-height: 0;max-width: 0;overflow: hidden;text-align: left;background-color: #f0f8ff;}#sk-container-id-1 div.sk-toggleable__content pre {margin: 0.2em;color: black;border-radius: 0.25em;background-color: #f0f8ff;}#sk-container-id-1 input.sk-toggleable__control:checked~div.sk-toggleable__content {max-height: 200px;max-width: 100%;overflow: auto;}#sk-container-id-1 input.sk-toggleable__control:checked~label.sk-toggleable__label-arrow:before {content: \"▾\";}#sk-container-id-1 div.sk-estimator input.sk-toggleable__control:checked~label.sk-toggleable__label {background-color: #d4ebff;}#sk-container-id-1 div.sk-label input.sk-toggleable__control:checked~label.sk-toggleable__label {background-color: #d4ebff;}#sk-container-id-1 input.sk-hidden--visually {border: 0;clip: rect(1px 1px 1px 1px);clip: rect(1px, 1px, 1px, 1px);height: 1px;margin: -1px;overflow: hidden;padding: 0;position: absolute;width: 1px;}#sk-container-id-1 div.sk-estimator {font-family: monospace;background-color: #f0f8ff;border: 1px dotted black;border-radius: 0.25em;box-sizing: border-box;margin-bottom: 0.5em;}#sk-container-id-1 div.sk-estimator:hover {background-color: #d4ebff;}#sk-container-id-1 div.sk-parallel-item::after {content: \"\";width: 100%;border-bottom: 1px solid gray;flex-grow: 1;}#sk-container-id-1 div.sk-label:hover label.sk-toggleable__label {background-color: #d4ebff;}#sk-container-id-1 div.sk-serial::before {content: \"\";position: absolute;border-left: 1px solid gray;box-sizing: border-box;top: 0;bottom: 0;left: 50%;z-index: 0;}#sk-container-id-1 div.sk-serial {display: flex;flex-direction: column;align-items: center;background-color: white;padding-right: 0.2em;padding-left: 0.2em;position: relative;}#sk-container-id-1 div.sk-item {position: relative;z-index: 1;}#sk-container-id-1 div.sk-parallel {display: flex;align-items: stretch;justify-content: center;background-color: white;position: relative;}#sk-container-id-1 div.sk-item::before, #sk-container-id-1 div.sk-parallel-item::before {content: \"\";position: absolute;border-left: 1px solid gray;box-sizing: border-box;top: 0;bottom: 0;left: 50%;z-index: -1;}#sk-container-id-1 div.sk-parallel-item {display: flex;flex-direction: column;z-index: 1;position: relative;background-color: white;}#sk-container-id-1 div.sk-parallel-item:first-child::after {align-self: flex-end;width: 50%;}#sk-container-id-1 div.sk-parallel-item:last-child::after {align-self: flex-start;width: 50%;}#sk-container-id-1 div.sk-parallel-item:only-child::after {width: 0;}#sk-container-id-1 div.sk-dashed-wrapped {border: 1px dashed gray;margin: 0 0.4em 0.5em 0.4em;box-sizing: border-box;padding-bottom: 0.4em;background-color: white;}#sk-container-id-1 div.sk-label label {font-family: monospace;font-weight: bold;display: inline-block;line-height: 1.2em;}#sk-container-id-1 div.sk-label-container {text-align: center;}#sk-container-id-1 div.sk-container {/* jupyter's `normalize.less` sets `[hidden] { display: none; }` but bootstrap.min.css set `[hidden] { display: none !important; }` so we also need the `!important` here to be able to override the default hidden behavior on the sphinx rendered scikit-learn.org. See: https://github.com/scikit-learn/scikit-learn/issues/21755 */display: inline-block !important;position: relative;}#sk-container-id-1 div.sk-text-repr-fallback {display: none;}</style><div id=\"sk-container-id-1\" class=\"sk-top-container\"><div class=\"sk-text-repr-fallback\"><pre>LogisticRegression()</pre><b>In a Jupyter environment, please rerun this cell to show the HTML representation or trust the notebook. <br />On GitHub, the HTML representation is unable to render, please try loading this page with nbviewer.org.</b></div><div class=\"sk-container\" hidden><div class=\"sk-item\"><div class=\"sk-estimator sk-toggleable\"><input class=\"sk-toggleable__control sk-hidden--visually\" id=\"sk-estimator-id-1\" type=\"checkbox\" checked><label for=\"sk-estimator-id-1\" class=\"sk-toggleable__label sk-toggleable__label-arrow\">LogisticRegression</label><div class=\"sk-toggleable__content\"><pre>LogisticRegression()</pre></div></div></div></div></div>"
      ],
      "text/plain": [
       "LogisticRegression()"
      ]
     },
     "execution_count": 27,
     "metadata": {},
     "output_type": "execute_result"
    }
   ],
   "source": [
    "import numpy as np\n",
    "from sklearn.linear_model import LogisticRegression\n",
    "from sklearn.metrics import precision_score, recall_score, f1_score\n",
    "\n",
    "# Extract features from the train graph\n",
    "train_features = []\n",
    "train_labels = []\n",
    "for u, v in train_graph.edges():\n",
    "    num_common_neighbors = len(set(train_graph.neighbors(u)) & set(train_graph.neighbors(v)))\n",
    "    similarity = 0.0  # compute similarity between node attributes\n",
    "    distance = nx.shortest_path_length(train_graph, source=u, target=v)  # compute shortest path distance\n",
    "    train_features.append([num_common_neighbors, similarity, distance])\n",
    "    train_labels.append(train_graph[u][v]['LINK_SENTIMENT'])\n",
    "\n",
    "# Train a logistic regression model\n",
    "clf = LogisticRegression()\n",
    "clf.fit(np.array(train_features), np.array(train_labels))"
   ]
  },
  {
   "cell_type": "code",
   "execution_count": 41,
   "id": "73bf7af5",
   "metadata": {},
   "outputs": [],
   "source": [
    "# Predict on the test graph and evaluate the model\n",
    "test_features = []\n",
    "test_labels = []\n",
    "for u, v in test_graph.edges():\n",
    "    num_common_neighbors = len(set(test_graph.neighbors(u)) & set(test_graph.neighbors(v)))\n",
    "    similarity = 0.0  # compute similarity between node attributes\n",
    "    distance = nx.shortest_path_length(test_graph, source=u, target=v)  # compute shortest path distance\n",
    "    test_features.append([num_common_neighbors, similarity, distance])\n",
    "    test_labels.append(1)"
   ]
  },
  {
   "cell_type": "code",
   "execution_count": 42,
   "id": "e4c4acea",
   "metadata": {},
   "outputs": [],
   "source": [
    "from sklearn.metrics import accuracy_score"
   ]
  },
  {
   "cell_type": "code",
   "execution_count": 43,
   "id": "a38754ba",
   "metadata": {},
   "outputs": [
    {
     "name": "stdout",
     "output_type": "stream",
     "text": [
      "Accuracy: 1.0\n",
      "Precision: 1.0\n",
      "Recall: 1.0\n",
      "F1 score: 1.0\n"
     ]
    }
   ],
   "source": [
    "# evaluate the model\n",
    "y_pred = clf.predict(np.array(test_features))\n",
    "accuracy = accuracy_score(test_labels, y_pred)\n",
    "precision = precision_score(test_labels, y_pred, average='binary')\n",
    "recall = recall_score(test_labels, y_pred, average='binary')\n",
    "f1 = f1_score(test_labels, y_pred, average='binary')\n",
    "print('Accuracy:', accuracy)\n",
    "print('Precision:', precision)\n",
    "print('Recall:', recall)\n",
    "print('F1 score:', f1)\n"
   ]
  },
  {
   "cell_type": "code",
   "execution_count": null,
   "id": "626f453a",
   "metadata": {},
   "outputs": [],
   "source": []
  }
 ],
 "metadata": {
  "kernelspec": {
   "display_name": "Python 3 (ipykernel)",
   "language": "python",
   "name": "python3"
  },
  "language_info": {
   "codemirror_mode": {
    "name": "ipython",
    "version": 3
   },
   "file_extension": ".py",
   "mimetype": "text/x-python",
   "name": "python",
   "nbconvert_exporter": "python",
   "pygments_lexer": "ipython3",
   "version": "3.9.7"
  }
 },
 "nbformat": 4,
 "nbformat_minor": 5
}
