{
 "cells": [
  {
   "cell_type": "code",
   "execution_count": 1,
   "id": "7b633c6a",
   "metadata": {},
   "outputs": [],
   "source": [
    "import numpy as np\n",
    "import pandas as pd\n",
    "import json\n",
    "import re\n",
    "import random"
   ]
  },
  {
   "cell_type": "code",
   "execution_count": 2,
   "id": "1146c088",
   "metadata": {},
   "outputs": [],
   "source": [
    "import json\n",
    "\n",
    "tweets = []\n",
    "\n",
    "with open('ukraine-tweets.jsonl', 'r') as f:\n",
    "    for line in f:\n",
    "        # Parse the JSON data\n",
    "        data = json.loads(line)\n",
    "        tweets.append(data)\n",
    "\n",
    "# Create a dataframe from the list of dictionaries\n",
    "data = pd.DataFrame(tweets)"
   ]
  },
  {
   "cell_type": "code",
   "execution_count": 3,
   "id": "8cb99dd4",
   "metadata": {},
   "outputs": [],
   "source": [
    "df = data.sample(n=1000, random_state=42)"
   ]
  },
  {
   "cell_type": "code",
   "execution_count": 4,
   "id": "7fbd1cda",
   "metadata": {
    "scrolled": true
   },
   "outputs": [
    {
     "data": {
      "text/html": [
       "<div>\n",
       "<style scoped>\n",
       "    .dataframe tbody tr th:only-of-type {\n",
       "        vertical-align: middle;\n",
       "    }\n",
       "\n",
       "    .dataframe tbody tr th {\n",
       "        vertical-align: top;\n",
       "    }\n",
       "\n",
       "    .dataframe thead th {\n",
       "        text-align: right;\n",
       "    }\n",
       "</style>\n",
       "<table border=\"1\" class=\"dataframe\">\n",
       "  <thead>\n",
       "    <tr style=\"text-align: right;\">\n",
       "      <th></th>\n",
       "      <th>text</th>\n",
       "      <th>edit_history_tweet_ids</th>\n",
       "      <th>created_at</th>\n",
       "      <th>author_id</th>\n",
       "      <th>id</th>\n",
       "      <th>entities.annotations</th>\n",
       "      <th>public_metrics.retweet_count</th>\n",
       "      <th>public_metrics.reply_count</th>\n",
       "      <th>public_metrics.like_count</th>\n",
       "      <th>public_metrics.quote_count</th>\n",
       "      <th>...</th>\n",
       "      <th>author.public_metrics.listed_count</th>\n",
       "      <th>author.username</th>\n",
       "      <th>author.name</th>\n",
       "      <th>entities.urls</th>\n",
       "      <th>entities.mentions</th>\n",
       "      <th>entities.hashtags</th>\n",
       "      <th>entities.cashtags</th>\n",
       "      <th>withheld.copyright</th>\n",
       "      <th>withheld.country_codes</th>\n",
       "      <th>author.withheld.country_codes</th>\n",
       "    </tr>\n",
       "  </thead>\n",
       "  <tbody>\n",
       "    <tr>\n",
       "      <th>1801</th>\n",
       "      <td>RUSSIA wants to END the War by capturing Kiev ...</td>\n",
       "      <td>[1640936519455191046]</td>\n",
       "      <td>2023-03-29T04:38:48.000Z</td>\n",
       "      <td>1594883649509400581</td>\n",
       "      <td>1640936519455191046</td>\n",
       "      <td>[{'start': 0, 'end': 5, 'probability': 0.5363,...</td>\n",
       "      <td>0</td>\n",
       "      <td>0</td>\n",
       "      <td>0</td>\n",
       "      <td>0</td>\n",
       "      <td>...</td>\n",
       "      <td>4</td>\n",
       "      <td>SolemnJourney</td>\n",
       "      <td>Solemn Journey</td>\n",
       "      <td>[{'start': 257, 'end': 280, 'url': 'https://t....</td>\n",
       "      <td>None</td>\n",
       "      <td>None</td>\n",
       "      <td>None</td>\n",
       "      <td>None</td>\n",
       "      <td>None</td>\n",
       "      <td>None</td>\n",
       "    </tr>\n",
       "    <tr>\n",
       "      <th>1190</th>\n",
       "      <td>@RepMikeRogersAL Ukraine continues its fight f...</td>\n",
       "      <td>[1640940270882545665]</td>\n",
       "      <td>2023-03-29T04:53:42.000Z</td>\n",
       "      <td>2966809636</td>\n",
       "      <td>1640940270882545665</td>\n",
       "      <td>[{'start': 17, 'end': 23, 'probability': 0.986...</td>\n",
       "      <td>0</td>\n",
       "      <td>0</td>\n",
       "      <td>0</td>\n",
       "      <td>0</td>\n",
       "      <td>...</td>\n",
       "      <td>1</td>\n",
       "      <td>ArtemiyMoroz</td>\n",
       "      <td>Artem Moroz 🇺🇦</td>\n",
       "      <td>None</td>\n",
       "      <td>[{'start': 0, 'end': 16, 'username': 'RepMikeR...</td>\n",
       "      <td>None</td>\n",
       "      <td>None</td>\n",
       "      <td>None</td>\n",
       "      <td>None</td>\n",
       "      <td>None</td>\n",
       "    </tr>\n",
       "    <tr>\n",
       "      <th>1817</th>\n",
       "      <td>Ukraine War: 'Severe consequences' if Russia u...</td>\n",
       "      <td>[1640936406607450116]</td>\n",
       "      <td>2023-03-29T04:38:21.000Z</td>\n",
       "      <td>1629471494655885315</td>\n",
       "      <td>1640936406607450116</td>\n",
       "      <td>[{'start': 0, 'end': 10, 'probability': 0.723,...</td>\n",
       "      <td>0</td>\n",
       "      <td>0</td>\n",
       "      <td>0</td>\n",
       "      <td>0</td>\n",
       "      <td>...</td>\n",
       "      <td>0</td>\n",
       "      <td>17_nwo</td>\n",
       "      <td>Nwo</td>\n",
       "      <td>[{'start': 115, 'end': 138, 'url': 'https://t....</td>\n",
       "      <td>None</td>\n",
       "      <td>[{'start': 73, 'end': 80, 'tag': 'Canada'}, {'...</td>\n",
       "      <td>None</td>\n",
       "      <td>None</td>\n",
       "      <td>None</td>\n",
       "      <td>None</td>\n",
       "    </tr>\n",
       "    <tr>\n",
       "      <th>251</th>\n",
       "      <td>'I don't want people to feel sorry for me. I j...</td>\n",
       "      <td>[1640946681054212103]</td>\n",
       "      <td>2023-03-29T05:19:10.000Z</td>\n",
       "      <td>10409622</td>\n",
       "      <td>1640946681054212103</td>\n",
       "      <td>None</td>\n",
       "      <td>0</td>\n",
       "      <td>0</td>\n",
       "      <td>0</td>\n",
       "      <td>0</td>\n",
       "      <td>...</td>\n",
       "      <td>58</td>\n",
       "      <td>thedextazlab</td>\n",
       "      <td>David Kisamfu</td>\n",
       "      <td>[{'start': 78, 'end': 101, 'url': 'https://t.c...</td>\n",
       "      <td>None</td>\n",
       "      <td>None</td>\n",
       "      <td>None</td>\n",
       "      <td>None</td>\n",
       "      <td>None</td>\n",
       "      <td>None</td>\n",
       "    </tr>\n",
       "    <tr>\n",
       "      <th>2505</th>\n",
       "      <td>@visegrad24 It would be wonderful if, in the f...</td>\n",
       "      <td>[1640931967360282624]</td>\n",
       "      <td>2023-03-29T04:20:42.000Z</td>\n",
       "      <td>1499147748972666888</td>\n",
       "      <td>1640931967360282624</td>\n",
       "      <td>[{'start': 135, 'end': 141, 'probability': 0.9...</td>\n",
       "      <td>0</td>\n",
       "      <td>0</td>\n",
       "      <td>0</td>\n",
       "      <td>0</td>\n",
       "      <td>...</td>\n",
       "      <td>0</td>\n",
       "      <td>Eduardo29161319</td>\n",
       "      <td>Eduardo Marques dos Santos</td>\n",
       "      <td>None</td>\n",
       "      <td>[{'start': 0, 'end': 11, 'username': 'visegrad...</td>\n",
       "      <td>None</td>\n",
       "      <td>None</td>\n",
       "      <td>None</td>\n",
       "      <td>None</td>\n",
       "      <td>None</td>\n",
       "    </tr>\n",
       "  </tbody>\n",
       "</table>\n",
       "<p>5 rows × 25 columns</p>\n",
       "</div>"
      ],
      "text/plain": [
       "                                                   text  \\\n",
       "1801  RUSSIA wants to END the War by capturing Kiev ...   \n",
       "1190  @RepMikeRogersAL Ukraine continues its fight f...   \n",
       "1817  Ukraine War: 'Severe consequences' if Russia u...   \n",
       "251   'I don't want people to feel sorry for me. I j...   \n",
       "2505  @visegrad24 It would be wonderful if, in the f...   \n",
       "\n",
       "     edit_history_tweet_ids                created_at            author_id  \\\n",
       "1801  [1640936519455191046]  2023-03-29T04:38:48.000Z  1594883649509400581   \n",
       "1190  [1640940270882545665]  2023-03-29T04:53:42.000Z           2966809636   \n",
       "1817  [1640936406607450116]  2023-03-29T04:38:21.000Z  1629471494655885315   \n",
       "251   [1640946681054212103]  2023-03-29T05:19:10.000Z             10409622   \n",
       "2505  [1640931967360282624]  2023-03-29T04:20:42.000Z  1499147748972666888   \n",
       "\n",
       "                       id                               entities.annotations  \\\n",
       "1801  1640936519455191046  [{'start': 0, 'end': 5, 'probability': 0.5363,...   \n",
       "1190  1640940270882545665  [{'start': 17, 'end': 23, 'probability': 0.986...   \n",
       "1817  1640936406607450116  [{'start': 0, 'end': 10, 'probability': 0.723,...   \n",
       "251   1640946681054212103                                               None   \n",
       "2505  1640931967360282624  [{'start': 135, 'end': 141, 'probability': 0.9...   \n",
       "\n",
       "      public_metrics.retweet_count  public_metrics.reply_count  \\\n",
       "1801                             0                           0   \n",
       "1190                             0                           0   \n",
       "1817                             0                           0   \n",
       "251                              0                           0   \n",
       "2505                             0                           0   \n",
       "\n",
       "      public_metrics.like_count  public_metrics.quote_count  ...  \\\n",
       "1801                          0                           0  ...   \n",
       "1190                          0                           0  ...   \n",
       "1817                          0                           0  ...   \n",
       "251                           0                           0  ...   \n",
       "2505                          0                           0  ...   \n",
       "\n",
       "      author.public_metrics.listed_count  author.username  \\\n",
       "1801                                   4    SolemnJourney   \n",
       "1190                                   1     ArtemiyMoroz   \n",
       "1817                                   0           17_nwo   \n",
       "251                                   58     thedextazlab   \n",
       "2505                                   0  Eduardo29161319   \n",
       "\n",
       "                     author.name  \\\n",
       "1801              Solemn Journey   \n",
       "1190              Artem Moroz 🇺🇦   \n",
       "1817                         Nwo   \n",
       "251                David Kisamfu   \n",
       "2505  Eduardo Marques dos Santos   \n",
       "\n",
       "                                          entities.urls  \\\n",
       "1801  [{'start': 257, 'end': 280, 'url': 'https://t....   \n",
       "1190                                               None   \n",
       "1817  [{'start': 115, 'end': 138, 'url': 'https://t....   \n",
       "251   [{'start': 78, 'end': 101, 'url': 'https://t.c...   \n",
       "2505                                               None   \n",
       "\n",
       "                                      entities.mentions  \\\n",
       "1801                                               None   \n",
       "1190  [{'start': 0, 'end': 16, 'username': 'RepMikeR...   \n",
       "1817                                               None   \n",
       "251                                                None   \n",
       "2505  [{'start': 0, 'end': 11, 'username': 'visegrad...   \n",
       "\n",
       "                                      entities.hashtags entities.cashtags  \\\n",
       "1801                                               None              None   \n",
       "1190                                               None              None   \n",
       "1817  [{'start': 73, 'end': 80, 'tag': 'Canada'}, {'...              None   \n",
       "251                                                None              None   \n",
       "2505                                               None              None   \n",
       "\n",
       "     withheld.copyright withheld.country_codes author.withheld.country_codes  \n",
       "1801               None                   None                          None  \n",
       "1190               None                   None                          None  \n",
       "1817               None                   None                          None  \n",
       "251                None                   None                          None  \n",
       "2505               None                   None                          None  \n",
       "\n",
       "[5 rows x 25 columns]"
      ]
     },
     "execution_count": 4,
     "metadata": {},
     "output_type": "execute_result"
    }
   ],
   "source": [
    "df.head()"
   ]
  },
  {
   "cell_type": "code",
   "execution_count": 5,
   "id": "dcaed32f",
   "metadata": {},
   "outputs": [],
   "source": [
    "df = df[['text']]"
   ]
  },
  {
   "cell_type": "code",
   "execution_count": 6,
   "id": "299a9001",
   "metadata": {},
   "outputs": [
    {
     "data": {
      "text/plain": [
       "(1000, 1)"
      ]
     },
     "execution_count": 6,
     "metadata": {},
     "output_type": "execute_result"
    }
   ],
   "source": [
    "df.shape"
   ]
  },
  {
   "cell_type": "code",
   "execution_count": 7,
   "id": "2e428ed1",
   "metadata": {},
   "outputs": [],
   "source": [
    "#cleaning the tweets\n",
    "def remove_pattern(input_txt, pattern):\n",
    "    r = re.findall(pattern, input_txt)\n",
    "    for i in r:\n",
    "        input_txt = re.sub(i, '', input_txt)        \n",
    "    return input_txt\n",
    "def clean_tweets(tweets):\n",
    "    #remove twitter Return handles (RT @xxx:)\n",
    "    tweets = np.vectorize(remove_pattern)(tweets, \"RT @[\\w]*:\") \n",
    "    \n",
    "    #remove twitter handles (@xxx)\n",
    "    tweets = np.vectorize(remove_pattern)(tweets, \"@[\\w]*\")\n",
    "    \n",
    "    #remove URL links (httpxxx)\n",
    "    tweets = np.vectorize(remove_pattern)(tweets, \"https?://[A-Za-z0-9./]*\")\n",
    "    \n",
    "    #remove special characters, numbers, punctuations (except for #)\n",
    "    tweets = np.core.defchararray.replace(tweets, \"[^a-zA-Z]\", \" \")\n",
    "    \n",
    "    return tweets"
   ]
  },
  {
   "cell_type": "code",
   "execution_count": 8,
   "id": "e891137e",
   "metadata": {},
   "outputs": [
    {
     "data": {
      "text/plain": [
       "1801    RUSSIA wants to END the War by capturing Kiev ...\n",
       "1190     Ukraine continues its fight for security of t...\n",
       "1817    Ukraine War: 'Severe consequences' if Russia u...\n",
       "251     'I don't want people to feel sorry for me. I j...\n",
       "2505     It would be wonderful if, in the form of a pr...\n",
       "Name: text, dtype: object"
      ]
     },
     "execution_count": 8,
     "metadata": {},
     "output_type": "execute_result"
    }
   ],
   "source": [
    "\n",
    "df['text'] = clean_tweets(df['text'])\n",
    "df['text'].head()"
   ]
  },
  {
   "cell_type": "code",
   "execution_count": 9,
   "id": "73797154",
   "metadata": {},
   "outputs": [],
   "source": [
    "from textblob import TextBlob\n",
    "\n",
    "# Define a function to get sentiment polarity and subjectivity using TextBlob\n",
    "def get_sentiment(text):\n",
    "    blob = TextBlob(text)\n",
    "    polarity = blob.sentiment.polarity\n",
    "    subjectivity = blob.sentiment.subjectivity\n",
    "    return polarity, subjectivity\n",
    "\n",
    "# Apply the function to the \"text\" column of the data frame\n",
    "sentiments = df['text'].apply(get_sentiment)\n",
    "\n",
    "# Create two new columns in the data frame to store the sentiment polarity and subjectivity\n",
    "df['polarity'] = [s[0] for s in sentiments]\n",
    "df['subjectivity'] = [s[1] for s in sentiments]\n"
   ]
  },
  {
   "cell_type": "code",
   "execution_count": 10,
   "id": "80312a9c",
   "metadata": {},
   "outputs": [
    {
     "data": {
      "text/html": [
       "<div>\n",
       "<style scoped>\n",
       "    .dataframe tbody tr th:only-of-type {\n",
       "        vertical-align: middle;\n",
       "    }\n",
       "\n",
       "    .dataframe tbody tr th {\n",
       "        vertical-align: top;\n",
       "    }\n",
       "\n",
       "    .dataframe thead th {\n",
       "        text-align: right;\n",
       "    }\n",
       "</style>\n",
       "<table border=\"1\" class=\"dataframe\">\n",
       "  <thead>\n",
       "    <tr style=\"text-align: right;\">\n",
       "      <th></th>\n",
       "      <th>text</th>\n",
       "      <th>polarity</th>\n",
       "      <th>subjectivity</th>\n",
       "    </tr>\n",
       "  </thead>\n",
       "  <tbody>\n",
       "    <tr>\n",
       "      <th>1801</th>\n",
       "      <td>RUSSIA wants to END the War by capturing Kiev ...</td>\n",
       "      <td>0.100000</td>\n",
       "      <td>0.550000</td>\n",
       "    </tr>\n",
       "    <tr>\n",
       "      <th>1190</th>\n",
       "      <td>Ukraine continues its fight for security of t...</td>\n",
       "      <td>0.104167</td>\n",
       "      <td>0.083333</td>\n",
       "    </tr>\n",
       "    <tr>\n",
       "      <th>1817</th>\n",
       "      <td>Ukraine War: 'Severe consequences' if Russia u...</td>\n",
       "      <td>0.000000</td>\n",
       "      <td>0.000000</td>\n",
       "    </tr>\n",
       "    <tr>\n",
       "      <th>251</th>\n",
       "      <td>'I don't want people to feel sorry for me. I j...</td>\n",
       "      <td>-0.500000</td>\n",
       "      <td>1.000000</td>\n",
       "    </tr>\n",
       "    <tr>\n",
       "      <th>2505</th>\n",
       "      <td>It would be wonderful if, in the form of a pr...</td>\n",
       "      <td>0.666667</td>\n",
       "      <td>0.785714</td>\n",
       "    </tr>\n",
       "  </tbody>\n",
       "</table>\n",
       "</div>"
      ],
      "text/plain": [
       "                                                   text  polarity  \\\n",
       "1801  RUSSIA wants to END the War by capturing Kiev ...  0.100000   \n",
       "1190   Ukraine continues its fight for security of t...  0.104167   \n",
       "1817  Ukraine War: 'Severe consequences' if Russia u...  0.000000   \n",
       "251   'I don't want people to feel sorry for me. I j... -0.500000   \n",
       "2505   It would be wonderful if, in the form of a pr...  0.666667   \n",
       "\n",
       "      subjectivity  \n",
       "1801      0.550000  \n",
       "1190      0.083333  \n",
       "1817      0.000000  \n",
       "251       1.000000  \n",
       "2505      0.785714  "
      ]
     },
     "execution_count": 10,
     "metadata": {},
     "output_type": "execute_result"
    }
   ],
   "source": [
    "df.head()"
   ]
  },
  {
   "cell_type": "markdown",
   "id": "b296fe05",
   "metadata": {},
   "source": [
    "# Sentiment Classification Using NLTK"
   ]
  },
  {
   "cell_type": "code",
   "execution_count": 11,
   "id": "17a91eba",
   "metadata": {},
   "outputs": [
    {
     "name": "stderr",
     "output_type": "stream",
     "text": [
      "[nltk_data] Downloading package vader_lexicon to C:\\Users\\ehtisham\n",
      "[nltk_data]     raza\\AppData\\Roaming\\nltk_data...\n",
      "[nltk_data]   Package vader_lexicon is already up-to-date!\n"
     ]
    },
    {
     "data": {
      "text/plain": [
       "True"
      ]
     },
     "execution_count": 11,
     "metadata": {},
     "output_type": "execute_result"
    }
   ],
   "source": [
    "import nltk\n",
    "from nltk.sentiment import SentimentIntensityAnalyzer\n",
    "nltk.download('vader_lexicon')\n"
   ]
  },
  {
   "cell_type": "code",
   "execution_count": 12,
   "id": "debf96d5",
   "metadata": {},
   "outputs": [],
   "source": [
    "sia = SentimentIntensityAnalyzer()"
   ]
  },
  {
   "cell_type": "code",
   "execution_count": 13,
   "id": "b5bd360e",
   "metadata": {},
   "outputs": [],
   "source": [
    "# Assuming your dataframe is called `df` and the tweet text is in a column called `text`\n",
    "df['sentiment_nltk'] = df['text'].apply(lambda x: sia.polarity_scores(x)['compound'])"
   ]
  },
  {
   "cell_type": "code",
   "execution_count": 14,
   "id": "b35d67dc",
   "metadata": {},
   "outputs": [
    {
     "data": {
      "text/html": [
       "<div>\n",
       "<style scoped>\n",
       "    .dataframe tbody tr th:only-of-type {\n",
       "        vertical-align: middle;\n",
       "    }\n",
       "\n",
       "    .dataframe tbody tr th {\n",
       "        vertical-align: top;\n",
       "    }\n",
       "\n",
       "    .dataframe thead th {\n",
       "        text-align: right;\n",
       "    }\n",
       "</style>\n",
       "<table border=\"1\" class=\"dataframe\">\n",
       "  <thead>\n",
       "    <tr style=\"text-align: right;\">\n",
       "      <th></th>\n",
       "      <th>text</th>\n",
       "      <th>polarity</th>\n",
       "      <th>subjectivity</th>\n",
       "      <th>sentiment_nltk</th>\n",
       "    </tr>\n",
       "  </thead>\n",
       "  <tbody>\n",
       "    <tr>\n",
       "      <th>1801</th>\n",
       "      <td>RUSSIA wants to END the War by capturing Kiev ...</td>\n",
       "      <td>0.100000</td>\n",
       "      <td>0.550000</td>\n",
       "      <td>-0.8934</td>\n",
       "    </tr>\n",
       "    <tr>\n",
       "      <th>1190</th>\n",
       "      <td>Ukraine continues its fight for security of t...</td>\n",
       "      <td>0.104167</td>\n",
       "      <td>0.083333</td>\n",
       "      <td>0.5526</td>\n",
       "    </tr>\n",
       "    <tr>\n",
       "      <th>1817</th>\n",
       "      <td>Ukraine War: 'Severe consequences' if Russia u...</td>\n",
       "      <td>0.000000</td>\n",
       "      <td>0.000000</td>\n",
       "      <td>-0.8271</td>\n",
       "    </tr>\n",
       "    <tr>\n",
       "      <th>251</th>\n",
       "      <td>'I don't want people to feel sorry for me. I j...</td>\n",
       "      <td>-0.500000</td>\n",
       "      <td>1.000000</td>\n",
       "      <td>-0.1887</td>\n",
       "    </tr>\n",
       "    <tr>\n",
       "      <th>2505</th>\n",
       "      <td>It would be wonderful if, in the form of a pr...</td>\n",
       "      <td>0.666667</td>\n",
       "      <td>0.785714</td>\n",
       "      <td>0.7783</td>\n",
       "    </tr>\n",
       "  </tbody>\n",
       "</table>\n",
       "</div>"
      ],
      "text/plain": [
       "                                                   text  polarity  \\\n",
       "1801  RUSSIA wants to END the War by capturing Kiev ...  0.100000   \n",
       "1190   Ukraine continues its fight for security of t...  0.104167   \n",
       "1817  Ukraine War: 'Severe consequences' if Russia u...  0.000000   \n",
       "251   'I don't want people to feel sorry for me. I j... -0.500000   \n",
       "2505   It would be wonderful if, in the form of a pr...  0.666667   \n",
       "\n",
       "      subjectivity  sentiment_nltk  \n",
       "1801      0.550000         -0.8934  \n",
       "1190      0.083333          0.5526  \n",
       "1817      0.000000         -0.8271  \n",
       "251       1.000000         -0.1887  \n",
       "2505      0.785714          0.7783  "
      ]
     },
     "execution_count": 14,
     "metadata": {},
     "output_type": "execute_result"
    }
   ],
   "source": [
    "df.head()"
   ]
  },
  {
   "cell_type": "markdown",
   "id": "9016efda",
   "metadata": {},
   "source": [
    "# Sentiment Classification using TextBlob"
   ]
  },
  {
   "cell_type": "code",
   "execution_count": 15,
   "id": "f4ead53d",
   "metadata": {},
   "outputs": [],
   "source": [
    "from textblob import TextBlob\n",
    "\n",
    "df['sentiment_textblob'] = df['text'].apply(lambda x: TextBlob(x).sentiment.polarity)\n"
   ]
  },
  {
   "cell_type": "markdown",
   "id": "5a5ce837",
   "metadata": {},
   "source": [
    "# Sentiment Classification using Vader"
   ]
  },
  {
   "cell_type": "code",
   "execution_count": 16,
   "id": "9cc0530f",
   "metadata": {},
   "outputs": [
    {
     "name": "stderr",
     "output_type": "stream",
     "text": [
      "[nltk_data] Downloading package vader_lexicon to C:\\Users\\ehtisham\n",
      "[nltk_data]     raza\\AppData\\Roaming\\nltk_data...\n",
      "[nltk_data]   Package vader_lexicon is already up-to-date!\n"
     ]
    },
    {
     "data": {
      "text/plain": [
       "True"
      ]
     },
     "execution_count": 16,
     "metadata": {},
     "output_type": "execute_result"
    }
   ],
   "source": [
    "import nltk\n",
    "from nltk.sentiment.vader import SentimentIntensityAnalyzer\n",
    "nltk.download('vader_lexicon')"
   ]
  },
  {
   "cell_type": "code",
   "execution_count": 17,
   "id": "2af49add",
   "metadata": {},
   "outputs": [],
   "source": [
    "sia = SentimentIntensityAnalyzer()\n",
    "# Assuming your dataframe is called `df` and the tweet text is in a column called `text`\n",
    "df['sentiment_vader'] = df['text'].apply(lambda x: sia.polarity_scores(x)['compound'])"
   ]
  },
  {
   "cell_type": "code",
   "execution_count": 18,
   "id": "eb3ff647",
   "metadata": {},
   "outputs": [
    {
     "data": {
      "text/html": [
       "<div>\n",
       "<style scoped>\n",
       "    .dataframe tbody tr th:only-of-type {\n",
       "        vertical-align: middle;\n",
       "    }\n",
       "\n",
       "    .dataframe tbody tr th {\n",
       "        vertical-align: top;\n",
       "    }\n",
       "\n",
       "    .dataframe thead th {\n",
       "        text-align: right;\n",
       "    }\n",
       "</style>\n",
       "<table border=\"1\" class=\"dataframe\">\n",
       "  <thead>\n",
       "    <tr style=\"text-align: right;\">\n",
       "      <th></th>\n",
       "      <th>text</th>\n",
       "      <th>polarity</th>\n",
       "      <th>subjectivity</th>\n",
       "      <th>sentiment_nltk</th>\n",
       "      <th>sentiment_textblob</th>\n",
       "      <th>sentiment_vader</th>\n",
       "    </tr>\n",
       "  </thead>\n",
       "  <tbody>\n",
       "    <tr>\n",
       "      <th>1801</th>\n",
       "      <td>RUSSIA wants to END the War by capturing Kiev ...</td>\n",
       "      <td>0.100000</td>\n",
       "      <td>0.550000</td>\n",
       "      <td>-0.8934</td>\n",
       "      <td>0.100000</td>\n",
       "      <td>-0.8934</td>\n",
       "    </tr>\n",
       "    <tr>\n",
       "      <th>1190</th>\n",
       "      <td>Ukraine continues its fight for security of t...</td>\n",
       "      <td>0.104167</td>\n",
       "      <td>0.083333</td>\n",
       "      <td>0.5526</td>\n",
       "      <td>0.104167</td>\n",
       "      <td>0.5526</td>\n",
       "    </tr>\n",
       "    <tr>\n",
       "      <th>1817</th>\n",
       "      <td>Ukraine War: 'Severe consequences' if Russia u...</td>\n",
       "      <td>0.000000</td>\n",
       "      <td>0.000000</td>\n",
       "      <td>-0.8271</td>\n",
       "      <td>0.000000</td>\n",
       "      <td>-0.8271</td>\n",
       "    </tr>\n",
       "    <tr>\n",
       "      <th>251</th>\n",
       "      <td>'I don't want people to feel sorry for me. I j...</td>\n",
       "      <td>-0.500000</td>\n",
       "      <td>1.000000</td>\n",
       "      <td>-0.1887</td>\n",
       "      <td>-0.500000</td>\n",
       "      <td>-0.1887</td>\n",
       "    </tr>\n",
       "    <tr>\n",
       "      <th>2505</th>\n",
       "      <td>It would be wonderful if, in the form of a pr...</td>\n",
       "      <td>0.666667</td>\n",
       "      <td>0.785714</td>\n",
       "      <td>0.7783</td>\n",
       "      <td>0.666667</td>\n",
       "      <td>0.7783</td>\n",
       "    </tr>\n",
       "  </tbody>\n",
       "</table>\n",
       "</div>"
      ],
      "text/plain": [
       "                                                   text  polarity  \\\n",
       "1801  RUSSIA wants to END the War by capturing Kiev ...  0.100000   \n",
       "1190   Ukraine continues its fight for security of t...  0.104167   \n",
       "1817  Ukraine War: 'Severe consequences' if Russia u...  0.000000   \n",
       "251   'I don't want people to feel sorry for me. I j... -0.500000   \n",
       "2505   It would be wonderful if, in the form of a pr...  0.666667   \n",
       "\n",
       "      subjectivity  sentiment_nltk  sentiment_textblob  sentiment_vader  \n",
       "1801      0.550000         -0.8934            0.100000          -0.8934  \n",
       "1190      0.083333          0.5526            0.104167           0.5526  \n",
       "1817      0.000000         -0.8271            0.000000          -0.8271  \n",
       "251       1.000000         -0.1887           -0.500000          -0.1887  \n",
       "2505      0.785714          0.7783            0.666667           0.7783  "
      ]
     },
     "execution_count": 18,
     "metadata": {},
     "output_type": "execute_result"
    }
   ],
   "source": [
    "df.head()"
   ]
  },
  {
   "cell_type": "code",
   "execution_count": 19,
   "id": "7d5c8fbc",
   "metadata": {},
   "outputs": [
    {
     "data": {
      "text/html": [
       "<div>\n",
       "<style scoped>\n",
       "    .dataframe tbody tr th:only-of-type {\n",
       "        vertical-align: middle;\n",
       "    }\n",
       "\n",
       "    .dataframe tbody tr th {\n",
       "        vertical-align: top;\n",
       "    }\n",
       "\n",
       "    .dataframe thead th {\n",
       "        text-align: right;\n",
       "    }\n",
       "</style>\n",
       "<table border=\"1\" class=\"dataframe\">\n",
       "  <thead>\n",
       "    <tr style=\"text-align: right;\">\n",
       "      <th></th>\n",
       "      <th>text</th>\n",
       "      <th>polarity</th>\n",
       "      <th>subjectivity</th>\n",
       "      <th>sentiment_nltk</th>\n",
       "      <th>sentiment_textblob</th>\n",
       "      <th>sentiment_vader</th>\n",
       "    </tr>\n",
       "  </thead>\n",
       "  <tbody>\n",
       "    <tr>\n",
       "      <th>1801</th>\n",
       "      <td>RUSSIA wants to END the War by capturing Kiev ...</td>\n",
       "      <td>0.100000</td>\n",
       "      <td>0.550000</td>\n",
       "      <td>-0.8934</td>\n",
       "      <td>0.100000</td>\n",
       "      <td>-0.8934</td>\n",
       "    </tr>\n",
       "    <tr>\n",
       "      <th>1190</th>\n",
       "      <td>Ukraine continues its fight for security of t...</td>\n",
       "      <td>0.104167</td>\n",
       "      <td>0.083333</td>\n",
       "      <td>0.5526</td>\n",
       "      <td>0.104167</td>\n",
       "      <td>0.5526</td>\n",
       "    </tr>\n",
       "    <tr>\n",
       "      <th>1817</th>\n",
       "      <td>Ukraine War: 'Severe consequences' if Russia u...</td>\n",
       "      <td>0.000000</td>\n",
       "      <td>0.000000</td>\n",
       "      <td>-0.8271</td>\n",
       "      <td>0.000000</td>\n",
       "      <td>-0.8271</td>\n",
       "    </tr>\n",
       "    <tr>\n",
       "      <th>251</th>\n",
       "      <td>'I don't want people to feel sorry for me. I j...</td>\n",
       "      <td>-0.500000</td>\n",
       "      <td>1.000000</td>\n",
       "      <td>-0.1887</td>\n",
       "      <td>-0.500000</td>\n",
       "      <td>-0.1887</td>\n",
       "    </tr>\n",
       "    <tr>\n",
       "      <th>2505</th>\n",
       "      <td>It would be wonderful if, in the form of a pr...</td>\n",
       "      <td>0.666667</td>\n",
       "      <td>0.785714</td>\n",
       "      <td>0.7783</td>\n",
       "      <td>0.666667</td>\n",
       "      <td>0.7783</td>\n",
       "    </tr>\n",
       "  </tbody>\n",
       "</table>\n",
       "</div>"
      ],
      "text/plain": [
       "                                                   text  polarity  \\\n",
       "1801  RUSSIA wants to END the War by capturing Kiev ...  0.100000   \n",
       "1190   Ukraine continues its fight for security of t...  0.104167   \n",
       "1817  Ukraine War: 'Severe consequences' if Russia u...  0.000000   \n",
       "251   'I don't want people to feel sorry for me. I j... -0.500000   \n",
       "2505   It would be wonderful if, in the form of a pr...  0.666667   \n",
       "\n",
       "      subjectivity  sentiment_nltk  sentiment_textblob  sentiment_vader  \n",
       "1801      0.550000         -0.8934            0.100000          -0.8934  \n",
       "1190      0.083333          0.5526            0.104167           0.5526  \n",
       "1817      0.000000         -0.8271            0.000000          -0.8271  \n",
       "251       1.000000         -0.1887           -0.500000          -0.1887  \n",
       "2505      0.785714          0.7783            0.666667           0.7783  "
      ]
     },
     "execution_count": 19,
     "metadata": {},
     "output_type": "execute_result"
    }
   ],
   "source": [
    "df.head()"
   ]
  },
  {
   "cell_type": "markdown",
   "id": "efbe17fb",
   "metadata": {},
   "source": [
    "# Sentiment Classification Pointwise Mutual Information (PMI) "
   ]
  },
  {
   "cell_type": "code",
   "execution_count": 20,
   "id": "c8e54a2a",
   "metadata": {},
   "outputs": [
    {
     "name": "stderr",
     "output_type": "stream",
     "text": [
      "[nltk_data] Downloading package opinion_lexicon to C:\\Users\\ehtisham\n",
      "[nltk_data]     raza\\AppData\\Roaming\\nltk_data...\n",
      "[nltk_data]   Package opinion_lexicon is already up-to-date!\n"
     ]
    },
    {
     "data": {
      "text/plain": [
       "True"
      ]
     },
     "execution_count": 20,
     "metadata": {},
     "output_type": "execute_result"
    }
   ],
   "source": [
    "from nltk.tokenize import word_tokenize\n",
    "from nltk.corpus import opinion_lexicon\n",
    "from nltk.collocations import BigramAssocMeasures, BigramCollocationFinder\n",
    "import nltk\n",
    "nltk.download('opinion_lexicon')"
   ]
  },
  {
   "cell_type": "code",
   "execution_count": 21,
   "id": "d92416cc",
   "metadata": {},
   "outputs": [],
   "source": [
    "# Load the opinion lexicon\n",
    "pos_words = set(opinion_lexicon.positive())\n",
    "neg_words = set(opinion_lexicon.negative())\n"
   ]
  },
  {
   "cell_type": "code",
   "execution_count": 22,
   "id": "da1629cc",
   "metadata": {},
   "outputs": [],
   "source": [
    "finder = BigramCollocationFinder.from_documents([word_tokenize(tweet['text']) for tweet in tweets])\n",
    "measures = BigramAssocMeasures()"
   ]
  },
  {
   "cell_type": "code",
   "execution_count": 23,
   "id": "f23c6f34",
   "metadata": {},
   "outputs": [],
   "source": [
    "# Calculate the PMI of each bigram and sort them by their PMI score\n",
    "pmis = finder.score_ngrams(measures.pmi)\n",
    "pmis_sorted = sorted(pmis, key=lambda x: x[1], reverse=True)"
   ]
  },
  {
   "cell_type": "code",
   "execution_count": 24,
   "id": "f1af993e",
   "metadata": {},
   "outputs": [],
   "source": [
    "import nltk\n",
    "from nltk.collocations import *\n",
    "from nltk.sentiment import SentimentIntensityAnalyzer\n",
    "import pandas as pd\n",
    "# Create a list of all the tweets\n",
    "tweets = df['text'].tolist()"
   ]
  },
  {
   "cell_type": "code",
   "execution_count": 25,
   "id": "21e246b7",
   "metadata": {},
   "outputs": [],
   "source": [
    "# Tokenize the tweets\n",
    "tokenized_tweets = [nltk.word_tokenize(tweet.lower()) for tweet in tweets]"
   ]
  },
  {
   "cell_type": "code",
   "execution_count": 26,
   "id": "153e52e1",
   "metadata": {},
   "outputs": [],
   "source": [
    "# Load the opinion lexicon\n",
    "positive_words = set(opinion_lexicon.positive())\n",
    "negative_words = set(opinion_lexicon.negative())"
   ]
  },
  {
   "cell_type": "code",
   "execution_count": 27,
   "id": "9ce5fff0",
   "metadata": {},
   "outputs": [],
   "source": [
    "# Calculate the frequency of each word in the tweets\n",
    "word_freq = nltk.FreqDist([word for tweet in tokenized_tweets for word in tweet])"
   ]
  },
  {
   "cell_type": "code",
   "execution_count": 28,
   "id": "01ae094a",
   "metadata": {},
   "outputs": [],
   "source": [
    "\n",
    "# Calculate the frequency of positive and negative words in the tweets\n",
    "positive_word_freq = nltk.FreqDist([word for tweet in tokenized_tweets for word in tweet if word in positive_words])\n",
    "negative_word_freq = nltk.FreqDist([word for tweet in tokenized_tweets for word in tweet if word in negative_words])\n"
   ]
  },
  {
   "cell_type": "code",
   "execution_count": 29,
   "id": "260d20eb",
   "metadata": {},
   "outputs": [],
   "source": [
    "\n",
    "# Calculate the total number of words and tweets\n",
    "total_words = sum(word_freq.values())\n",
    "total_tweets = len(tweets)\n"
   ]
  },
  {
   "cell_type": "code",
   "execution_count": 30,
   "id": "8a3f6dbc",
   "metadata": {},
   "outputs": [],
   "source": [
    "\n",
    "# Calculate the PMI for each word\n",
    "pmi_scores = {}\n",
    "for word in word_freq.keys():\n",
    "    if word in positive_words or word in negative_words:\n",
    "        p_word = positive_word_freq[word]/total_words\n",
    "        n_word = negative_word_freq[word]/total_words\n",
    "        pmi_scores[word] = p_word/(n_word+1e-12)\n",
    "\n",
    "# Calculate the sentiment score for each tweet\n",
    "sentiment_scores = []\n",
    "for tweet in tokenized_tweets:\n",
    "    score = 0\n",
    "    for word in tweet:\n",
    "        if word in pmi_scores:\n",
    "            score += pmi_scores[word]\n",
    "    sentiment_scores.append(score)\n"
   ]
  },
  {
   "cell_type": "code",
   "execution_count": 31,
   "id": "70dcd6b9",
   "metadata": {},
   "outputs": [],
   "source": [
    "\n",
    "# Classify the sentiment of each tweet as positive or negative\n",
    "threshold = sum(sentiment_scores)/total_tweets\n",
    "sentiments = []\n",
    "for score in sentiment_scores:\n",
    "    if score >= threshold:\n",
    "        sentiments.append('positive')\n",
    "    else:\n",
    "        sentiments.append('negative')\n",
    "\n",
    "# Add the sentiment column to the DataFrame\n",
    "df['sentiment_pmi'] = sentiments\n"
   ]
  },
  {
   "cell_type": "code",
   "execution_count": 32,
   "id": "087ab2bd",
   "metadata": {},
   "outputs": [
    {
     "data": {
      "text/html": [
       "<div>\n",
       "<style scoped>\n",
       "    .dataframe tbody tr th:only-of-type {\n",
       "        vertical-align: middle;\n",
       "    }\n",
       "\n",
       "    .dataframe tbody tr th {\n",
       "        vertical-align: top;\n",
       "    }\n",
       "\n",
       "    .dataframe thead th {\n",
       "        text-align: right;\n",
       "    }\n",
       "</style>\n",
       "<table border=\"1\" class=\"dataframe\">\n",
       "  <thead>\n",
       "    <tr style=\"text-align: right;\">\n",
       "      <th></th>\n",
       "      <th>text</th>\n",
       "      <th>polarity</th>\n",
       "      <th>subjectivity</th>\n",
       "      <th>sentiment_nltk</th>\n",
       "      <th>sentiment_textblob</th>\n",
       "      <th>sentiment_vader</th>\n",
       "      <th>sentiment_pmi</th>\n",
       "    </tr>\n",
       "  </thead>\n",
       "  <tbody>\n",
       "    <tr>\n",
       "      <th>1801</th>\n",
       "      <td>RUSSIA wants to END the War by capturing Kiev ...</td>\n",
       "      <td>0.100000</td>\n",
       "      <td>0.550000</td>\n",
       "      <td>-0.8934</td>\n",
       "      <td>0.100000</td>\n",
       "      <td>-0.8934</td>\n",
       "      <td>negative</td>\n",
       "    </tr>\n",
       "    <tr>\n",
       "      <th>1190</th>\n",
       "      <td>Ukraine continues its fight for security of t...</td>\n",
       "      <td>0.104167</td>\n",
       "      <td>0.083333</td>\n",
       "      <td>0.5526</td>\n",
       "      <td>0.104167</td>\n",
       "      <td>0.5526</td>\n",
       "      <td>positive</td>\n",
       "    </tr>\n",
       "    <tr>\n",
       "      <th>1817</th>\n",
       "      <td>Ukraine War: 'Severe consequences' if Russia u...</td>\n",
       "      <td>0.000000</td>\n",
       "      <td>0.000000</td>\n",
       "      <td>-0.8271</td>\n",
       "      <td>0.000000</td>\n",
       "      <td>-0.8271</td>\n",
       "      <td>negative</td>\n",
       "    </tr>\n",
       "    <tr>\n",
       "      <th>251</th>\n",
       "      <td>'I don't want people to feel sorry for me. I j...</td>\n",
       "      <td>-0.500000</td>\n",
       "      <td>1.000000</td>\n",
       "      <td>-0.1887</td>\n",
       "      <td>-0.500000</td>\n",
       "      <td>-0.1887</td>\n",
       "      <td>negative</td>\n",
       "    </tr>\n",
       "    <tr>\n",
       "      <th>2505</th>\n",
       "      <td>It would be wonderful if, in the form of a pr...</td>\n",
       "      <td>0.666667</td>\n",
       "      <td>0.785714</td>\n",
       "      <td>0.7783</td>\n",
       "      <td>0.666667</td>\n",
       "      <td>0.7783</td>\n",
       "      <td>negative</td>\n",
       "    </tr>\n",
       "  </tbody>\n",
       "</table>\n",
       "</div>"
      ],
      "text/plain": [
       "                                                   text  polarity  \\\n",
       "1801  RUSSIA wants to END the War by capturing Kiev ...  0.100000   \n",
       "1190   Ukraine continues its fight for security of t...  0.104167   \n",
       "1817  Ukraine War: 'Severe consequences' if Russia u...  0.000000   \n",
       "251   'I don't want people to feel sorry for me. I j... -0.500000   \n",
       "2505   It would be wonderful if, in the form of a pr...  0.666667   \n",
       "\n",
       "      subjectivity  sentiment_nltk  sentiment_textblob  sentiment_vader  \\\n",
       "1801      0.550000         -0.8934            0.100000          -0.8934   \n",
       "1190      0.083333          0.5526            0.104167           0.5526   \n",
       "1817      0.000000         -0.8271            0.000000          -0.8271   \n",
       "251       1.000000         -0.1887           -0.500000          -0.1887   \n",
       "2505      0.785714          0.7783            0.666667           0.7783   \n",
       "\n",
       "     sentiment_pmi  \n",
       "1801      negative  \n",
       "1190      positive  \n",
       "1817      negative  \n",
       "251       negative  \n",
       "2505      negative  "
      ]
     },
     "execution_count": 32,
     "metadata": {},
     "output_type": "execute_result"
    }
   ],
   "source": [
    "df.head()"
   ]
  },
  {
   "cell_type": "markdown",
   "id": "026874df",
   "metadata": {},
   "source": [
    "# Results Comparison"
   ]
  },
  {
   "cell_type": "code",
   "execution_count": 33,
   "id": "327b738b",
   "metadata": {},
   "outputs": [],
   "source": [
    "import pandas as pd\n",
    "\n",
    "# Assuming your dataframe is called `df`\n",
    "# Create a new column to store the comparison result\n",
    "df['sentiment_comparison'] = ''\n",
    "\n",
    "# Iterate over each row of the dataframe\n",
    "for i, row in df.iterrows():\n",
    "    textblob_sentiment = row['sentiment_textblob']\n",
    "    vader_sentiment = row['sentiment_vader']\n",
    "    nltk_sentiment = row['sentiment_nltk']\n",
    "    \n",
    "    # Compare the sentiment analysis results\n",
    "    if textblob_sentiment == vader_sentiment == nltk_sentiment:\n",
    "        comparison_result = 'All Methods have Same'\n",
    "    elif textblob_sentiment == vader_sentiment or textblob_sentiment == nltk_sentiment or vader_sentiment == nltk_sentiment:\n",
    "        comparison_result = 'Two Methods have Same'\n",
    "    else:\n",
    "        comparison_result = 'None of Methods have same'\n",
    "    \n",
    "    # Assign the comparison result to the new column\n",
    "    df.at[i, 'sentiment_comparison'] = comparison_result\n"
   ]
  },
  {
   "cell_type": "code",
   "execution_count": 34,
   "id": "df8c37c4",
   "metadata": {},
   "outputs": [
    {
     "data": {
      "image/png": "[encoded data removed]",
      "text/plain": [
       "<Figure size 432x288 with 1 Axes>"
      ]
     },
     "metadata": {
      "needs_background": "light"
     },
     "output_type": "display_data"
    }
   ],
   "source": [
    "import seaborn as sns\n",
    "import matplotlib.pyplot as plt\n",
    "\n",
    "# Assuming your dataframe is called `df` and the sentiment result is in a column called `sentiment`\n",
    "sns.countplot(x='sentiment_comparison', data=df)\n",
    "plt.show()\n"
   ]
  },
  {
   "cell_type": "code",
   "execution_count": 35,
   "id": "41919e28",
   "metadata": {},
   "outputs": [],
   "source": [
    "df['sentiment_nltk'] = df['sentiment_nltk'].apply(lambda x: 'negative' if x < 0 else ('positive' if x > 0 else 'neutral'))\n",
    "df['sentiment_textblob'] = df['sentiment_textblob'].apply(lambda x: 'negative' if x < 0 else ('positive' if x > 0 else 'neutral'))\n",
    "df['sentiment_vader'] = df['sentiment_vader'].apply(lambda x: 'negative' if x < 0 else ('positive' if x > 0 else 'neutral'))"
   ]
  },
  {
   "cell_type": "code",
   "execution_count": 36,
   "id": "6ecdab17",
   "metadata": {},
   "outputs": [
    {
     "data": {
      "text/html": [
       "<div>\n",
       "<style scoped>\n",
       "    .dataframe tbody tr th:only-of-type {\n",
       "        vertical-align: middle;\n",
       "    }\n",
       "\n",
       "    .dataframe tbody tr th {\n",
       "        vertical-align: top;\n",
       "    }\n",
       "\n",
       "    .dataframe thead th {\n",
       "        text-align: right;\n",
       "    }\n",
       "</style>\n",
       "<table border=\"1\" class=\"dataframe\">\n",
       "  <thead>\n",
       "    <tr style=\"text-align: right;\">\n",
       "      <th></th>\n",
       "      <th>text</th>\n",
       "      <th>polarity</th>\n",
       "      <th>subjectivity</th>\n",
       "      <th>sentiment_nltk</th>\n",
       "      <th>sentiment_textblob</th>\n",
       "      <th>sentiment_vader</th>\n",
       "      <th>sentiment_pmi</th>\n",
       "      <th>sentiment_comparison</th>\n",
       "    </tr>\n",
       "  </thead>\n",
       "  <tbody>\n",
       "    <tr>\n",
       "      <th>1801</th>\n",
       "      <td>RUSSIA wants to END the War by capturing Kiev ...</td>\n",
       "      <td>0.100000</td>\n",
       "      <td>0.550000</td>\n",
       "      <td>negative</td>\n",
       "      <td>positive</td>\n",
       "      <td>negative</td>\n",
       "      <td>negative</td>\n",
       "      <td>Two Methods have Same</td>\n",
       "    </tr>\n",
       "    <tr>\n",
       "      <th>1190</th>\n",
       "      <td>Ukraine continues its fight for security of t...</td>\n",
       "      <td>0.104167</td>\n",
       "      <td>0.083333</td>\n",
       "      <td>positive</td>\n",
       "      <td>positive</td>\n",
       "      <td>positive</td>\n",
       "      <td>positive</td>\n",
       "      <td>Two Methods have Same</td>\n",
       "    </tr>\n",
       "    <tr>\n",
       "      <th>1817</th>\n",
       "      <td>Ukraine War: 'Severe consequences' if Russia u...</td>\n",
       "      <td>0.000000</td>\n",
       "      <td>0.000000</td>\n",
       "      <td>negative</td>\n",
       "      <td>neutral</td>\n",
       "      <td>negative</td>\n",
       "      <td>negative</td>\n",
       "      <td>Two Methods have Same</td>\n",
       "    </tr>\n",
       "    <tr>\n",
       "      <th>251</th>\n",
       "      <td>'I don't want people to feel sorry for me. I j...</td>\n",
       "      <td>-0.500000</td>\n",
       "      <td>1.000000</td>\n",
       "      <td>negative</td>\n",
       "      <td>negative</td>\n",
       "      <td>negative</td>\n",
       "      <td>negative</td>\n",
       "      <td>Two Methods have Same</td>\n",
       "    </tr>\n",
       "    <tr>\n",
       "      <th>2505</th>\n",
       "      <td>It would be wonderful if, in the form of a pr...</td>\n",
       "      <td>0.666667</td>\n",
       "      <td>0.785714</td>\n",
       "      <td>positive</td>\n",
       "      <td>positive</td>\n",
       "      <td>positive</td>\n",
       "      <td>negative</td>\n",
       "      <td>Two Methods have Same</td>\n",
       "    </tr>\n",
       "  </tbody>\n",
       "</table>\n",
       "</div>"
      ],
      "text/plain": [
       "                                                   text  polarity  \\\n",
       "1801  RUSSIA wants to END the War by capturing Kiev ...  0.100000   \n",
       "1190   Ukraine continues its fight for security of t...  0.104167   \n",
       "1817  Ukraine War: 'Severe consequences' if Russia u...  0.000000   \n",
       "251   'I don't want people to feel sorry for me. I j... -0.500000   \n",
       "2505   It would be wonderful if, in the form of a pr...  0.666667   \n",
       "\n",
       "      subjectivity sentiment_nltk sentiment_textblob sentiment_vader  \\\n",
       "1801      0.550000       negative           positive        negative   \n",
       "1190      0.083333       positive           positive        positive   \n",
       "1817      0.000000       negative            neutral        negative   \n",
       "251       1.000000       negative           negative        negative   \n",
       "2505      0.785714       positive           positive        positive   \n",
       "\n",
       "     sentiment_pmi   sentiment_comparison  \n",
       "1801      negative  Two Methods have Same  \n",
       "1190      positive  Two Methods have Same  \n",
       "1817      negative  Two Methods have Same  \n",
       "251       negative  Two Methods have Same  \n",
       "2505      negative  Two Methods have Same  "
      ]
     },
     "execution_count": 36,
     "metadata": {},
     "output_type": "execute_result"
    }
   ],
   "source": [
    "df.head()"
   ]
  },
  {
   "cell_type": "code",
   "execution_count": 37,
   "id": "1d6f784f",
   "metadata": {},
   "outputs": [],
   "source": [
    "import pandas as pd\n",
    "\n",
    "# Assuming your dataframe is called `df`\n",
    "# Create a new column to store the comparison result\n",
    "df['PMI_vs_NLTK'] = ''\n",
    "\n",
    "# Iterate over each row of the dataframe\n",
    "for i, row in df.iterrows():\n",
    "    nltk_sentiment = row['sentiment_nltk']\n",
    "    sentiment_pmi = row['sentiment_pmi']\n",
    "    # Compare the sentiment analysis results\n",
    "    if  sentiment_pmi== nltk_sentiment:\n",
    "        comparison_result = 'Same'\n",
    "\n",
    "    else:\n",
    "        comparison_result = 'Different'\n",
    "    \n",
    "    # Assign the comparison result to the new column\n",
    "    df.at[i, 'PMI_vs_NLTK'] = comparison_result\n"
   ]
  },
  {
   "cell_type": "code",
   "execution_count": 38,
   "id": "fa6eb863",
   "metadata": {},
   "outputs": [
    {
     "data": {
      "text/html": [
       "<div>\n",
       "<style scoped>\n",
       "    .dataframe tbody tr th:only-of-type {\n",
       "        vertical-align: middle;\n",
       "    }\n",
       "\n",
       "    .dataframe tbody tr th {\n",
       "        vertical-align: top;\n",
       "    }\n",
       "\n",
       "    .dataframe thead th {\n",
       "        text-align: right;\n",
       "    }\n",
       "</style>\n",
       "<table border=\"1\" class=\"dataframe\">\n",
       "  <thead>\n",
       "    <tr style=\"text-align: right;\">\n",
       "      <th></th>\n",
       "      <th>text</th>\n",
       "      <th>polarity</th>\n",
       "      <th>subjectivity</th>\n",
       "      <th>sentiment_nltk</th>\n",
       "      <th>sentiment_textblob</th>\n",
       "      <th>sentiment_vader</th>\n",
       "      <th>sentiment_pmi</th>\n",
       "      <th>sentiment_comparison</th>\n",
       "      <th>PMI_vs_NLTK</th>\n",
       "    </tr>\n",
       "  </thead>\n",
       "  <tbody>\n",
       "    <tr>\n",
       "      <th>1801</th>\n",
       "      <td>RUSSIA wants to END the War by capturing Kiev ...</td>\n",
       "      <td>0.100000</td>\n",
       "      <td>0.550000</td>\n",
       "      <td>negative</td>\n",
       "      <td>positive</td>\n",
       "      <td>negative</td>\n",
       "      <td>negative</td>\n",
       "      <td>Two Methods have Same</td>\n",
       "      <td>Same</td>\n",
       "    </tr>\n",
       "    <tr>\n",
       "      <th>1190</th>\n",
       "      <td>Ukraine continues its fight for security of t...</td>\n",
       "      <td>0.104167</td>\n",
       "      <td>0.083333</td>\n",
       "      <td>positive</td>\n",
       "      <td>positive</td>\n",
       "      <td>positive</td>\n",
       "      <td>positive</td>\n",
       "      <td>Two Methods have Same</td>\n",
       "      <td>Same</td>\n",
       "    </tr>\n",
       "    <tr>\n",
       "      <th>1817</th>\n",
       "      <td>Ukraine War: 'Severe consequences' if Russia u...</td>\n",
       "      <td>0.000000</td>\n",
       "      <td>0.000000</td>\n",
       "      <td>negative</td>\n",
       "      <td>neutral</td>\n",
       "      <td>negative</td>\n",
       "      <td>negative</td>\n",
       "      <td>Two Methods have Same</td>\n",
       "      <td>Same</td>\n",
       "    </tr>\n",
       "    <tr>\n",
       "      <th>251</th>\n",
       "      <td>'I don't want people to feel sorry for me. I j...</td>\n",
       "      <td>-0.500000</td>\n",
       "      <td>1.000000</td>\n",
       "      <td>negative</td>\n",
       "      <td>negative</td>\n",
       "      <td>negative</td>\n",
       "      <td>negative</td>\n",
       "      <td>Two Methods have Same</td>\n",
       "      <td>Same</td>\n",
       "    </tr>\n",
       "    <tr>\n",
       "      <th>2505</th>\n",
       "      <td>It would be wonderful if, in the form of a pr...</td>\n",
       "      <td>0.666667</td>\n",
       "      <td>0.785714</td>\n",
       "      <td>positive</td>\n",
       "      <td>positive</td>\n",
       "      <td>positive</td>\n",
       "      <td>negative</td>\n",
       "      <td>Two Methods have Same</td>\n",
       "      <td>Different</td>\n",
       "    </tr>\n",
       "  </tbody>\n",
       "</table>\n",
       "</div>"
      ],
      "text/plain": [
       "                                                   text  polarity  \\\n",
       "1801  RUSSIA wants to END the War by capturing Kiev ...  0.100000   \n",
       "1190   Ukraine continues its fight for security of t...  0.104167   \n",
       "1817  Ukraine War: 'Severe consequences' if Russia u...  0.000000   \n",
       "251   'I don't want people to feel sorry for me. I j... -0.500000   \n",
       "2505   It would be wonderful if, in the form of a pr...  0.666667   \n",
       "\n",
       "      subjectivity sentiment_nltk sentiment_textblob sentiment_vader  \\\n",
       "1801      0.550000       negative           positive        negative   \n",
       "1190      0.083333       positive           positive        positive   \n",
       "1817      0.000000       negative            neutral        negative   \n",
       "251       1.000000       negative           negative        negative   \n",
       "2505      0.785714       positive           positive        positive   \n",
       "\n",
       "     sentiment_pmi   sentiment_comparison PMI_vs_NLTK  \n",
       "1801      negative  Two Methods have Same        Same  \n",
       "1190      positive  Two Methods have Same        Same  \n",
       "1817      negative  Two Methods have Same        Same  \n",
       "251       negative  Two Methods have Same        Same  \n",
       "2505      negative  Two Methods have Same   Different  "
      ]
     },
     "execution_count": 38,
     "metadata": {},
     "output_type": "execute_result"
    }
   ],
   "source": [
    "df.head()"
   ]
  },
  {
   "cell_type": "code",
   "execution_count": 39,
   "id": "ff88ed27",
   "metadata": {},
   "outputs": [
    {
     "data": {
      "image/png": "[encoded data removed]",
      "text/plain": [
       "<Figure size 432x288 with 1 Axes>"
      ]
     },
     "metadata": {
      "needs_background": "light"
     },
     "output_type": "display_data"
    }
   ],
   "source": [
    "sns.countplot(x='PMI_vs_NLTK', data=df)\n",
    "plt.show()"
   ]
  },
  {
   "cell_type": "code",
   "execution_count": null,
   "id": "42d58f6f",
   "metadata": {},
   "outputs": [],
   "source": []
  }
 ],
 "metadata": {
  "kernelspec": {
   "display_name": "Python 3 (ipykernel)",
   "language": "python",
   "name": "python3"
  },
  "language_info": {
   "codemirror_mode": {
    "name": "ipython",
    "version": 3
   },
   "file_extension": ".py",
   "mimetype": "text/x-python",
   "name": "python",
   "nbconvert_exporter": "python",
   "pygments_lexer": "ipython3",
   "version": "3.9.7"
  }
 },
 "nbformat": 4,
 "nbformat_minor": 5
}
